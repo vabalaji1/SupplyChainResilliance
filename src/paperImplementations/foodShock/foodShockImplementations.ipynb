{
 "cells": [
  {
   "cell_type": "code",
   "execution_count": 3,
   "metadata": {},
   "outputs": [],
   "source": [
    "import pandas as pd\n",
    "import numpy as np\n",
    "import matplotlib.pyplot as plt\n",
    "import random\n"
   ]
  },
  {
   "cell_type": "code",
   "execution_count": 5,
   "metadata": {},
   "outputs": [
    {
     "name": "stdout",
     "output_type": "stream",
     "text": [
      "    ID  sector  diversity_2012  diversity_2013  diversity_2014  diversity_2015\n",
      "0  101  animal        0.504571        0.505614        0.505372        0.505256\n",
      "1  101    crop        0.724984        0.726144        0.768855        0.748384\n",
      "2  101    feed        0.570448        0.565756        0.568316        0.565534\n",
      "3  101    meat        0.734430        0.724947        0.739431        0.735322\n",
      "4  102  animal        0.378877        0.379139        0.381346        0.381900\n"
     ]
    }
   ],
   "source": [
    "dfFlow = pd.read_csv(\"./data/food_flow_network_US-cities.csv\")\n",
    "dfRegions = pd.read_csv(\"./data/regions_description.csv\")\n",
    "dfDiversity = pd.read_csv(\"./data/diversity_US-cities.csv\")\n",
    "\n",
    "print(dfDiversity.head())"
   ]
  }
 ],
 "metadata": {
  "kernelspec": {
   "display_name": "Python 3",
   "language": "python",
   "name": "python3"
  },
  "language_info": {
   "codemirror_mode": {
    "name": "ipython",
    "version": 3
   },
   "file_extension": ".py",
   "mimetype": "text/x-python",
   "name": "python",
   "nbconvert_exporter": "python",
   "pygments_lexer": "ipython3",
   "version": "3.12.0"
  }
 },
 "nbformat": 4,
 "nbformat_minor": 2
}
